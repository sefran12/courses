{
  "nbformat": 4,
  "nbformat_minor": 0,
  "metadata": {
    "colab": {
      "name": "Google Colab Intro.ipynb",
      "provenance": [],
      "toc_visible": true,
      "authorship_tag": "ABX9TyMvXIaQGNT3XTk2u5lUpuQN",
      "include_colab_link": true
    },
    "kernelspec": {
      "name": "python3",
      "display_name": "Python 3"
    }
  },
  "cells": [
    {
      "cell_type": "markdown",
      "metadata": {
        "id": "view-in-github",
        "colab_type": "text"
      },
      "source": [
        "<a href=\"https://colab.research.google.com/github/sefran12/courses/blob/master/Google_Colab_Intro.ipynb\" target=\"_parent\"><img src=\"https://colab.research.google.com/assets/colab-badge.svg\" alt=\"Open In Colab\"/></a>"
      ]
    },
    {
      "cell_type": "markdown",
      "metadata": {
        "id": "Mc3QbvKvaV-m"
      },
      "source": [
        "# INTRODUCTION TO GOOGLE COLAB FOR TENSORFLOW 2\r\n",
        "## Imperial College London on Coursera"
      ]
    },
    {
      "cell_type": "code",
      "metadata": {
        "colab": {
          "base_uri": "https://localhost:8080/"
        },
        "id": "-TpPaz_GcyCW",
        "outputId": "4fc06fcb-47a4-46e9-801f-7d1976740ca1"
      },
      "source": [
        "print('Hello world!')"
      ],
      "execution_count": 1,
      "outputs": [
        {
          "output_type": "stream",
          "text": [
            "Hello world!\n"
          ],
          "name": "stdout"
        }
      ]
    },
    {
      "cell_type": "code",
      "metadata": {
        "colab": {
          "base_uri": "https://localhost:8080/"
        },
        "id": "wcYpsNPldNm6",
        "outputId": "492ba9a4-a8e7-4dea-ee70-7a786b14b155"
      },
      "source": [
        "from google.colab import drive\r\n",
        "drive.mount('gdrive')"
      ],
      "execution_count": 2,
      "outputs": [
        {
          "output_type": "stream",
          "text": [
            "Mounted at gdrive\n"
          ],
          "name": "stdout"
        }
      ]
    },
    {
      "cell_type": "code",
      "metadata": {
        "colab": {
          "base_uri": "https://localhost:8080/"
        },
        "id": "1VQNG424dkCc",
        "outputId": "90ef822f-86bd-4907-e756-ac43304d9411"
      },
      "source": [
        "import pandas as pd\r\n",
        "\r\n",
        "housing = pd.read_csv('sample_data/california_housing_test.csv')\r\n",
        "print(housing.head())"
      ],
      "execution_count": 4,
      "outputs": [
        {
          "output_type": "stream",
          "text": [
            "   longitude  latitude  ...  median_income  median_house_value\n",
            "0    -122.05     37.37  ...         6.6085            344700.0\n",
            "1    -118.30     34.26  ...         3.5990            176500.0\n",
            "2    -117.81     33.78  ...         5.7934            270500.0\n",
            "3    -118.36     33.82  ...         6.1359            330000.0\n",
            "4    -119.67     36.33  ...         2.9375             81700.0\n",
            "\n",
            "[5 rows x 9 columns]\n"
          ],
          "name": "stdout"
        }
      ]
    },
    {
      "cell_type": "code",
      "metadata": {
        "colab": {
          "base_uri": "https://localhost:8080/"
        },
        "id": "SLqKlqbRePQt",
        "outputId": "adfd2600-29b6-40a5-dcae-de9b5bc2c80d"
      },
      "source": [
        "print(housing.describe())"
      ],
      "execution_count": 11,
      "outputs": [
        {
          "output_type": "stream",
          "text": [
            "         longitude    latitude  ...  median_income  median_house_value\n",
            "count  3000.000000  3000.00000  ...    3000.000000          3000.00000\n",
            "mean   -119.589200    35.63539  ...       3.807272        205846.27500\n",
            "std       1.994936     2.12967  ...       1.854512        113119.68747\n",
            "min    -124.180000    32.56000  ...       0.499900         22500.00000\n",
            "25%    -121.810000    33.93000  ...       2.544000        121200.00000\n",
            "50%    -118.485000    34.27000  ...       3.487150        177650.00000\n",
            "75%    -118.020000    37.69000  ...       4.656475        263975.00000\n",
            "max    -114.490000    41.92000  ...      15.000100        500001.00000\n",
            "\n",
            "[8 rows x 9 columns]\n"
          ],
          "name": "stdout"
        }
      ]
    },
    {
      "cell_type": "code",
      "metadata": {
        "colab": {
          "base_uri": "https://localhost:8080/"
        },
        "id": "t15yOXjaemv1",
        "outputId": "7503d84e-e5e2-4651-f5ca-a559fc2a96d2"
      },
      "source": [
        "!ls"
      ],
      "execution_count": 12,
      "outputs": [
        {
          "output_type": "stream",
          "text": [
            "gdrive\tsample_data\n"
          ],
          "name": "stdout"
        }
      ]
    },
    {
      "cell_type": "code",
      "metadata": {
        "colab": {
          "base_uri": "https://localhost:8080/",
          "height": 36
        },
        "id": "SCBBZYWNenoA",
        "outputId": "006c7c50-1142-4c6c-dc9c-1f1cf9ccbf08"
      },
      "source": [
        "import tensorflow as tf\r\n",
        "tf.__version__"
      ],
      "execution_count": 13,
      "outputs": [
        {
          "output_type": "execute_result",
          "data": {
            "application/vnd.google.colaboratory.intrinsic+json": {
              "type": "string"
            },
            "text/plain": [
              "'2.4.0'"
            ]
          },
          "metadata": {
            "tags": []
          },
          "execution_count": 13
        }
      ]
    },
    {
      "cell_type": "code",
      "metadata": {
        "colab": {
          "base_uri": "https://localhost:8080/",
          "height": 283
        },
        "id": "FfkvepGCez4j",
        "outputId": "dad8c8b3-eaad-4eea-b6b9-7ed9ebc15056"
      },
      "source": [
        "housing.longitude.plot()"
      ],
      "execution_count": 14,
      "outputs": [
        {
          "output_type": "execute_result",
          "data": {
            "text/plain": [
              "<matplotlib.axes._subplots.AxesSubplot at 0x7f3ee7b62278>"
            ]
          },
          "metadata": {
            "tags": []
          },
          "execution_count": 14
        },
        {
          "output_type": "display_data",
          "data": {
            "image/png": "[encoded data removed]",
            "text/plain": [
              "<Figure size 432x288 with 1 Axes>"
            ]
          },
          "metadata": {
            "tags": [],
            "needs_background": "light"
          }
        }
      ]
    }
  ]
}